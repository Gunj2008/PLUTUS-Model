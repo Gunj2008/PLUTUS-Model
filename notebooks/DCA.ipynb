{
  "cells": [
    {
      "cell_type": "code",
      "execution_count": null,
      "metadata": {
        "id": "8EDkMYp9N2TK"
      },
      "outputs": [],
      "source": [
        "import pandas as pd\n",
        "import numpy as np\n",
        "import yfinance as yf\n",
        "import joblib\n",
        "import requests\n",
        "import eventlet\n",
        "import time\n",
        "import socketio\n",
        "from sklearn.ensemble import RandomForestRegressor\n",
        "from sklearn.model_selection import train_test_split\n",
        "from sklearn.metrics import mean_squared_error, r2_score\n",
        "from sklearn.preprocessing import MinMaxScaler\n",
        "from xgboost import XGBRegressor\n",
        "from flask import Flask, request, jsonify\n",
        "from binance.client import Client\n",
        "from apscheduler.schedulers.background import BackgroundScheduler\n",
        "from datetime import date\n",
        "from flask_socketio import SocketIO"
      ]
    },
    {
      "cell_type": "code",
      "execution_count": null,
      "metadata": {
        "id": "iEDNfUe1zdyW"
      },
      "outputs": [],
      "source": [
        "app = Flask(__name__)\n",
        "socketio = SocketIO(app, cors_allowed_origins=\"*\")"
      ]
    },
    {
      "cell_type": "markdown",
      "metadata": {
        "id": "kKGNUC2sQo1C"
      },
      "source": [
        "## **Gathering Data**"
      ]
    },
    {
      "cell_type": "code",
      "execution_count": null,
      "metadata": {
        "id": "RkpoSomJPHBn"
      },
      "outputs": [],
      "source": [
        "btc_ticker = yf.Ticker(\"SUI-USD\")\n",
        "btc = btc_ticker.history(period=\"max\")"
      ]
    },
    {
      "cell_type": "code",
      "execution_count": null,
      "metadata": {
        "colab": {
          "base_uri": "https://localhost:8080/",
          "height": 455
        },
        "id": "lghv8NJRPMmx",
        "outputId": "d1c0dd1c-87bf-4295-802b-aebde5ae7e63"
      },
      "outputs": [
        {
          "data": {
            "application/vnd.google.colaboratory.intrinsic+json": {
              "summary": "{\n  \"name\": \"btc\",\n  \"rows\": 810,\n  \"fields\": [\n    {\n      \"column\": \"Date\",\n      \"properties\": {\n        \"dtype\": \"date\",\n        \"min\": \"2022-03-18 00:00:00+00:00\",\n        \"max\": \"2024-06-04 00:00:00+00:00\",\n        \"num_unique_values\": 810,\n        \"samples\": [\n          \"2022-11-20 00:00:00+00:00\",\n          \"2024-01-17 00:00:00+00:00\",\n          \"2022-10-31 00:00:00+00:00\"\n        ],\n        \"semantic_type\": \"\",\n        \"description\": \"\"\n      }\n    },\n    {\n      \"column\": \"Open\",\n      \"properties\": {\n        \"dtype\": \"number\",\n        \"std\": 0.0030020218243314196,\n        \"min\": 1.8999999156221747e-05,\n        \"max\": 0.01909000054001808,\n        \"num_unique_values\": 695,\n        \"samples\": [\n          0.010777999646961689,\n          0.00030499999411404133,\n          0.005177000071853399\n        ],\n        \"semantic_type\": \"\",\n        \"description\": \"\"\n      }\n    },\n    {\n      \"column\": \"High\",\n      \"properties\": {\n        \"dtype\": \"number\",\n        \"std\": 0.0423037237781242,\n        \"min\": 3.199999991920777e-05,\n        \"max\": 1.2053810358047485,\n        \"num_unique_values\": 691,\n        \"samples\": [\n          0.013780999928712845,\n          0.00044100001105107367,\n          0.005278000142425299\n        ],\n        \"semantic_type\": \"\",\n        \"description\": \"\"\n      }\n    },\n    {\n      \"column\": \"Low\",\n      \"properties\": {\n        \"dtype\": \"number\",\n        \"std\": 0.002900144769374805,\n        \"min\": 0.0,\n        \"max\": 0.013685000129044056,\n        \"num_unique_values\": 682,\n        \"samples\": [\n          0.005739999935030937,\n          0.004170999862253666,\n          0.0054790000431239605\n        ],\n        \"semantic_type\": \"\",\n        \"description\": \"\"\n      }\n    },\n    {\n      \"column\": \"Close\",\n      \"properties\": {\n        \"dtype\": \"number\",\n        \"std\": 0.003000862871481987,\n        \"min\": 1.8999999156221747e-05,\n        \"max\": 0.019092999398708344,\n        \"num_unique_values\": 705,\n        \"samples\": [\n          0.005311999935656786,\n          0.0033100000582635403,\n          0.00342399999499321\n        ],\n        \"semantic_type\": \"\",\n        \"description\": \"\"\n      }\n    },\n    {\n      \"column\": \"Volume\",\n      \"properties\": {\n        \"dtype\": \"number\",\n        \"std\": 21730,\n        \"min\": 0,\n        \"max\": 302479,\n        \"num_unique_values\": 544,\n        \"samples\": [\n          67,\n          411,\n          2878\n        ],\n        \"semantic_type\": \"\",\n        \"description\": \"\"\n      }\n    },\n    {\n      \"column\": \"Dividends\",\n      \"properties\": {\n        \"dtype\": \"number\",\n        \"std\": 0.0,\n        \"min\": 0.0,\n        \"max\": 0.0,\n        \"num_unique_values\": 1,\n        \"samples\": [\n          0.0\n        ],\n        \"semantic_type\": \"\",\n        \"description\": \"\"\n      }\n    },\n    {\n      \"column\": \"Stock Splits\",\n      \"properties\": {\n        \"dtype\": \"number\",\n        \"std\": 0.0,\n        \"min\": 0.0,\n        \"max\": 0.0,\n        \"num_unique_values\": 1,\n        \"samples\": [\n          0.0\n        ],\n        \"semantic_type\": \"\",\n        \"description\": \"\"\n      }\n    }\n  ]\n}",
              "type": "dataframe",
              "variable_name": "btc"
            },
            "text/html": [
              "\n",
              "  <div id=\"df-76725f2a-d15e-4310-8e58-a8487698b9fb\" class=\"colab-df-container\">\n",
              "    <div>\n",
              "<style scoped>\n",
              "    .dataframe tbody tr th:only-of-type {\n",
              "        vertical-align: middle;\n",
              "    }\n",
              "\n",
              "    .dataframe tbody tr th {\n",
              "        vertical-align: top;\n",
              "    }\n",
              "\n",
              "    .dataframe thead th {\n",
              "        text-align: right;\n",
              "    }\n",
              "</style>\n",
              "<table border=\"1\" class=\"dataframe\">\n",
              "  <thead>\n",
              "    <tr style=\"text-align: right;\">\n",
              "      <th></th>\n",
              "      <th>Open</th>\n",
              "      <th>High</th>\n",
              "      <th>Low</th>\n",
              "      <th>Close</th>\n",
              "      <th>Volume</th>\n",
              "      <th>Dividends</th>\n",
              "      <th>Stock Splits</th>\n",
              "    </tr>\n",
              "    <tr>\n",
              "      <th>Date</th>\n",
              "      <th></th>\n",
              "      <th></th>\n",
              "      <th></th>\n",
              "      <th></th>\n",
              "      <th></th>\n",
              "      <th></th>\n",
              "      <th></th>\n",
              "    </tr>\n",
              "  </thead>\n",
              "  <tbody>\n",
              "    <tr>\n",
              "      <th>2022-03-18 00:00:00+00:00</th>\n",
              "      <td>0.009705</td>\n",
              "      <td>0.011553</td>\n",
              "      <td>0.009705</td>\n",
              "      <td>0.009937</td>\n",
              "      <td>302479</td>\n",
              "      <td>0.0</td>\n",
              "      <td>0.0</td>\n",
              "    </tr>\n",
              "    <tr>\n",
              "      <th>2022-03-19 00:00:00+00:00</th>\n",
              "      <td>0.009937</td>\n",
              "      <td>0.009999</td>\n",
              "      <td>0.008678</td>\n",
              "      <td>0.008748</td>\n",
              "      <td>117482</td>\n",
              "      <td>0.0</td>\n",
              "      <td>0.0</td>\n",
              "    </tr>\n",
              "    <tr>\n",
              "      <th>2022-03-20 00:00:00+00:00</th>\n",
              "      <td>0.008748</td>\n",
              "      <td>0.008776</td>\n",
              "      <td>0.008261</td>\n",
              "      <td>0.008342</td>\n",
              "      <td>55250</td>\n",
              "      <td>0.0</td>\n",
              "      <td>0.0</td>\n",
              "    </tr>\n",
              "    <tr>\n",
              "      <th>2022-03-21 00:00:00+00:00</th>\n",
              "      <td>0.008342</td>\n",
              "      <td>0.009224</td>\n",
              "      <td>0.008144</td>\n",
              "      <td>0.008964</td>\n",
              "      <td>41834</td>\n",
              "      <td>0.0</td>\n",
              "      <td>0.0</td>\n",
              "    </tr>\n",
              "    <tr>\n",
              "      <th>2022-03-22 00:00:00+00:00</th>\n",
              "      <td>0.008964</td>\n",
              "      <td>0.009223</td>\n",
              "      <td>0.008800</td>\n",
              "      <td>0.008853</td>\n",
              "      <td>39925</td>\n",
              "      <td>0.0</td>\n",
              "      <td>0.0</td>\n",
              "    </tr>\n",
              "    <tr>\n",
              "      <th>...</th>\n",
              "      <td>...</td>\n",
              "      <td>...</td>\n",
              "      <td>...</td>\n",
              "      <td>...</td>\n",
              "      <td>...</td>\n",
              "      <td>...</td>\n",
              "      <td>...</td>\n",
              "    </tr>\n",
              "    <tr>\n",
              "      <th>2024-05-31 00:00:00+00:00</th>\n",
              "      <td>0.000300</td>\n",
              "      <td>0.000300</td>\n",
              "      <td>0.000300</td>\n",
              "      <td>0.000300</td>\n",
              "      <td>0</td>\n",
              "      <td>0.0</td>\n",
              "      <td>0.0</td>\n",
              "    </tr>\n",
              "    <tr>\n",
              "      <th>2024-06-01 00:00:00+00:00</th>\n",
              "      <td>0.000300</td>\n",
              "      <td>0.000300</td>\n",
              "      <td>0.000300</td>\n",
              "      <td>0.000300</td>\n",
              "      <td>0</td>\n",
              "      <td>0.0</td>\n",
              "      <td>0.0</td>\n",
              "    </tr>\n",
              "    <tr>\n",
              "      <th>2024-06-02 00:00:00+00:00</th>\n",
              "      <td>0.000300</td>\n",
              "      <td>0.000300</td>\n",
              "      <td>0.000300</td>\n",
              "      <td>0.000300</td>\n",
              "      <td>0</td>\n",
              "      <td>0.0</td>\n",
              "      <td>0.0</td>\n",
              "    </tr>\n",
              "    <tr>\n",
              "      <th>2024-06-03 00:00:00+00:00</th>\n",
              "      <td>0.000300</td>\n",
              "      <td>0.000300</td>\n",
              "      <td>0.000300</td>\n",
              "      <td>0.000300</td>\n",
              "      <td>0</td>\n",
              "      <td>0.0</td>\n",
              "      <td>0.0</td>\n",
              "    </tr>\n",
              "    <tr>\n",
              "      <th>2024-06-04 00:00:00+00:00</th>\n",
              "      <td>0.000300</td>\n",
              "      <td>0.000300</td>\n",
              "      <td>0.000300</td>\n",
              "      <td>0.000300</td>\n",
              "      <td>0</td>\n",
              "      <td>0.0</td>\n",
              "      <td>0.0</td>\n",
              "    </tr>\n",
              "  </tbody>\n",
              "</table>\n",
              "<p>810 rows × 7 columns</p>\n",
              "</div>\n",
              "    <div class=\"colab-df-buttons\">\n",
              "\n",
              "  <div class=\"colab-df-container\">\n",
              "    <button class=\"colab-df-convert\" onclick=\"convertToInteractive('df-76725f2a-d15e-4310-8e58-a8487698b9fb')\"\n",
              "            title=\"Convert this dataframe to an interactive table.\"\n",
              "            style=\"display:none;\">\n",
              "\n",
              "  <svg xmlns=\"http://www.w3.org/2000/svg\" height=\"24px\" viewBox=\"0 -960 960 960\">\n",
              "    <path d=\"M120-120v-720h720v720H120Zm60-500h600v-160H180v160Zm220 220h160v-160H400v160Zm0 220h160v-160H400v160ZM180-400h160v-160H180v160Zm440 0h160v-160H620v160ZM180-180h160v-160H180v160Zm440 0h160v-160H620v160Z\"/>\n",
              "  </svg>\n",
              "    </button>\n",
              "\n",
              "  <style>\n",
              "    .colab-df-container {\n",
              "      display:flex;\n",
              "      gap: 12px;\n",
              "    }\n",
              "\n",
              "    .colab-df-convert {\n",
              "      background-color: #E8F0FE;\n",
              "      border: none;\n",
              "      border-radius: 50%;\n",
              "      cursor: pointer;\n",
              "      display: none;\n",
              "      fill: #1967D2;\n",
              "      height: 32px;\n",
              "      padding: 0 0 0 0;\n",
              "      width: 32px;\n",
              "    }\n",
              "\n",
              "    .colab-df-convert:hover {\n",
              "      background-color: #E2EBFA;\n",
              "      box-shadow: 0px 1px 2px rgba(60, 64, 67, 0.3), 0px 1px 3px 1px rgba(60, 64, 67, 0.15);\n",
              "      fill: #174EA6;\n",
              "    }\n",
              "\n",
              "    .colab-df-buttons div {\n",
              "      margin-bottom: 4px;\n",
              "    }\n",
              "\n",
              "    [theme=dark] .colab-df-convert {\n",
              "      background-color: #3B4455;\n",
              "      fill: #D2E3FC;\n",
              "    }\n",
              "\n",
              "    [theme=dark] .colab-df-convert:hover {\n",
              "      background-color: #434B5C;\n",
              "      box-shadow: 0px 1px 3px 1px rgba(0, 0, 0, 0.15);\n",
              "      filter: drop-shadow(0px 1px 2px rgba(0, 0, 0, 0.3));\n",
              "      fill: #FFFFFF;\n",
              "    }\n",
              "  </style>\n",
              "\n",
              "    <script>\n",
              "      const buttonEl =\n",
              "        document.querySelector('#df-76725f2a-d15e-4310-8e58-a8487698b9fb button.colab-df-convert');\n",
              "      buttonEl.style.display =\n",
              "        google.colab.kernel.accessAllowed ? 'block' : 'none';\n",
              "\n",
              "      async function convertToInteractive(key) {\n",
              "        const element = document.querySelector('#df-76725f2a-d15e-4310-8e58-a8487698b9fb');\n",
              "        const dataTable =\n",
              "          await google.colab.kernel.invokeFunction('convertToInteractive',\n",
              "                                                    [key], {});\n",
              "        if (!dataTable) return;\n",
              "\n",
              "        const docLinkHtml = 'Like what you see? Visit the ' +\n",
              "          '<a target=\"_blank\" href=https://colab.research.google.com/notebooks/data_table.ipynb>data table notebook</a>'\n",
              "          + ' to learn more about interactive tables.';\n",
              "        element.innerHTML = '';\n",
              "        dataTable['output_type'] = 'display_data';\n",
              "        await google.colab.output.renderOutput(dataTable, element);\n",
              "        const docLink = document.createElement('div');\n",
              "        docLink.innerHTML = docLinkHtml;\n",
              "        element.appendChild(docLink);\n",
              "      }\n",
              "    </script>\n",
              "  </div>\n",
              "\n",
              "\n",
              "<div id=\"df-0390a363-5e2c-4187-82a8-685408ae6773\">\n",
              "  <button class=\"colab-df-quickchart\" onclick=\"quickchart('df-0390a363-5e2c-4187-82a8-685408ae6773')\"\n",
              "            title=\"Suggest charts\"\n",
              "            style=\"display:none;\">\n",
              "\n",
              "<svg xmlns=\"http://www.w3.org/2000/svg\" height=\"24px\"viewBox=\"0 0 24 24\"\n",
              "     width=\"24px\">\n",
              "    <g>\n",
              "        <path d=\"M19 3H5c-1.1 0-2 .9-2 2v14c0 1.1.9 2 2 2h14c1.1 0 2-.9 2-2V5c0-1.1-.9-2-2-2zM9 17H7v-7h2v7zm4 0h-2V7h2v10zm4 0h-2v-4h2v4z\"/>\n",
              "    </g>\n",
              "</svg>\n",
              "  </button>\n",
              "\n",
              "<style>\n",
              "  .colab-df-quickchart {\n",
              "      --bg-color: #E8F0FE;\n",
              "      --fill-color: #1967D2;\n",
              "      --hover-bg-color: #E2EBFA;\n",
              "      --hover-fill-color: #174EA6;\n",
              "      --disabled-fill-color: #AAA;\n",
              "      --disabled-bg-color: #DDD;\n",
              "  }\n",
              "\n",
              "  [theme=dark] .colab-df-quickchart {\n",
              "      --bg-color: #3B4455;\n",
              "      --fill-color: #D2E3FC;\n",
              "      --hover-bg-color: #434B5C;\n",
              "      --hover-fill-color: #FFFFFF;\n",
              "      --disabled-bg-color: #3B4455;\n",
              "      --disabled-fill-color: #666;\n",
              "  }\n",
              "\n",
              "  .colab-df-quickchart {\n",
              "    background-color: var(--bg-color);\n",
              "    border: none;\n",
              "    border-radius: 50%;\n",
              "    cursor: pointer;\n",
              "    display: none;\n",
              "    fill: var(--fill-color);\n",
              "    height: 32px;\n",
              "    padding: 0;\n",
              "    width: 32px;\n",
              "  }\n",
              "\n",
              "  .colab-df-quickchart:hover {\n",
              "    background-color: var(--hover-bg-color);\n",
              "    box-shadow: 0 1px 2px rgba(60, 64, 67, 0.3), 0 1px 3px 1px rgba(60, 64, 67, 0.15);\n",
              "    fill: var(--button-hover-fill-color);\n",
              "  }\n",
              "\n",
              "  .colab-df-quickchart-complete:disabled,\n",
              "  .colab-df-quickchart-complete:disabled:hover {\n",
              "    background-color: var(--disabled-bg-color);\n",
              "    fill: var(--disabled-fill-color);\n",
              "    box-shadow: none;\n",
              "  }\n",
              "\n",
              "  .colab-df-spinner {\n",
              "    border: 2px solid var(--fill-color);\n",
              "    border-color: transparent;\n",
              "    border-bottom-color: var(--fill-color);\n",
              "    animation:\n",
              "      spin 1s steps(1) infinite;\n",
              "  }\n",
              "\n",
              "  @keyframes spin {\n",
              "    0% {\n",
              "      border-color: transparent;\n",
              "      border-bottom-color: var(--fill-color);\n",
              "      border-left-color: var(--fill-color);\n",
              "    }\n",
              "    20% {\n",
              "      border-color: transparent;\n",
              "      border-left-color: var(--fill-color);\n",
              "      border-top-color: var(--fill-color);\n",
              "    }\n",
              "    30% {\n",
              "      border-color: transparent;\n",
              "      border-left-color: var(--fill-color);\n",
              "      border-top-color: var(--fill-color);\n",
              "      border-right-color: var(--fill-color);\n",
              "    }\n",
              "    40% {\n",
              "      border-color: transparent;\n",
              "      border-right-color: var(--fill-color);\n",
              "      border-top-color: var(--fill-color);\n",
              "    }\n",
              "    60% {\n",
              "      border-color: transparent;\n",
              "      border-right-color: var(--fill-color);\n",
              "    }\n",
              "    80% {\n",
              "      border-color: transparent;\n",
              "      border-right-color: var(--fill-color);\n",
              "      border-bottom-color: var(--fill-color);\n",
              "    }\n",
              "    90% {\n",
              "      border-color: transparent;\n",
              "      border-bottom-color: var(--fill-color);\n",
              "    }\n",
              "  }\n",
              "</style>\n",
              "\n",
              "  <script>\n",
              "    async function quickchart(key) {\n",
              "      const quickchartButtonEl =\n",
              "        document.querySelector('#' + key + ' button');\n",
              "      quickchartButtonEl.disabled = true;  // To prevent multiple clicks.\n",
              "      quickchartButtonEl.classList.add('colab-df-spinner');\n",
              "      try {\n",
              "        const charts = await google.colab.kernel.invokeFunction(\n",
              "            'suggestCharts', [key], {});\n",
              "      } catch (error) {\n",
              "        console.error('Error during call to suggestCharts:', error);\n",
              "      }\n",
              "      quickchartButtonEl.classList.remove('colab-df-spinner');\n",
              "      quickchartButtonEl.classList.add('colab-df-quickchart-complete');\n",
              "    }\n",
              "    (() => {\n",
              "      let quickchartButtonEl =\n",
              "        document.querySelector('#df-0390a363-5e2c-4187-82a8-685408ae6773 button');\n",
              "      quickchartButtonEl.style.display =\n",
              "        google.colab.kernel.accessAllowed ? 'block' : 'none';\n",
              "    })();\n",
              "  </script>\n",
              "</div>\n",
              "\n",
              "  <div id=\"id_f04eab0d-7dbe-48f3-a0d6-77c927ece321\">\n",
              "    <style>\n",
              "      .colab-df-generate {\n",
              "        background-color: #E8F0FE;\n",
              "        border: none;\n",
              "        border-radius: 50%;\n",
              "        cursor: pointer;\n",
              "        display: none;\n",
              "        fill: #1967D2;\n",
              "        height: 32px;\n",
              "        padding: 0 0 0 0;\n",
              "        width: 32px;\n",
              "      }\n",
              "\n",
              "      .colab-df-generate:hover {\n",
              "        background-color: #E2EBFA;\n",
              "        box-shadow: 0px 1px 2px rgba(60, 64, 67, 0.3), 0px 1px 3px 1px rgba(60, 64, 67, 0.15);\n",
              "        fill: #174EA6;\n",
              "      }\n",
              "\n",
              "      [theme=dark] .colab-df-generate {\n",
              "        background-color: #3B4455;\n",
              "        fill: #D2E3FC;\n",
              "      }\n",
              "\n",
              "      [theme=dark] .colab-df-generate:hover {\n",
              "        background-color: #434B5C;\n",
              "        box-shadow: 0px 1px 3px 1px rgba(0, 0, 0, 0.15);\n",
              "        filter: drop-shadow(0px 1px 2px rgba(0, 0, 0, 0.3));\n",
              "        fill: #FFFFFF;\n",
              "      }\n",
              "    </style>\n",
              "    <button class=\"colab-df-generate\" onclick=\"generateWithVariable('btc')\"\n",
              "            title=\"Generate code using this dataframe.\"\n",
              "            style=\"display:none;\">\n",
              "\n",
              "  <svg xmlns=\"http://www.w3.org/2000/svg\" height=\"24px\"viewBox=\"0 0 24 24\"\n",
              "       width=\"24px\">\n",
              "    <path d=\"M7,19H8.4L18.45,9,17,7.55,7,17.6ZM5,21V16.75L18.45,3.32a2,2,0,0,1,2.83,0l1.4,1.43a1.91,1.91,0,0,1,.58,1.4,1.91,1.91,0,0,1-.58,1.4L9.25,21ZM18.45,9,17,7.55Zm-12,3A5.31,5.31,0,0,0,4.9,8.1,5.31,5.31,0,0,0,1,6.5,5.31,5.31,0,0,0,4.9,4.9,5.31,5.31,0,0,0,6.5,1,5.31,5.31,0,0,0,8.1,4.9,5.31,5.31,0,0,0,12,6.5,5.46,5.46,0,0,0,6.5,12Z\"/>\n",
              "  </svg>\n",
              "    </button>\n",
              "    <script>\n",
              "      (() => {\n",
              "      const buttonEl =\n",
              "        document.querySelector('#id_f04eab0d-7dbe-48f3-a0d6-77c927ece321 button.colab-df-generate');\n",
              "      buttonEl.style.display =\n",
              "        google.colab.kernel.accessAllowed ? 'block' : 'none';\n",
              "\n",
              "      buttonEl.onclick = () => {\n",
              "        google.colab.notebook.generateWithVariable('btc');\n",
              "      }\n",
              "      })();\n",
              "    </script>\n",
              "  </div>\n",
              "\n",
              "    </div>\n",
              "  </div>\n"
            ],
            "text/plain": [
              "                               Open      High       Low     Close  Volume  \\\n",
              "Date                                                                        \n",
              "2022-03-18 00:00:00+00:00  0.009705  0.011553  0.009705  0.009937  302479   \n",
              "2022-03-19 00:00:00+00:00  0.009937  0.009999  0.008678  0.008748  117482   \n",
              "2022-03-20 00:00:00+00:00  0.008748  0.008776  0.008261  0.008342   55250   \n",
              "2022-03-21 00:00:00+00:00  0.008342  0.009224  0.008144  0.008964   41834   \n",
              "2022-03-22 00:00:00+00:00  0.008964  0.009223  0.008800  0.008853   39925   \n",
              "...                             ...       ...       ...       ...     ...   \n",
              "2024-05-31 00:00:00+00:00  0.000300  0.000300  0.000300  0.000300       0   \n",
              "2024-06-01 00:00:00+00:00  0.000300  0.000300  0.000300  0.000300       0   \n",
              "2024-06-02 00:00:00+00:00  0.000300  0.000300  0.000300  0.000300       0   \n",
              "2024-06-03 00:00:00+00:00  0.000300  0.000300  0.000300  0.000300       0   \n",
              "2024-06-04 00:00:00+00:00  0.000300  0.000300  0.000300  0.000300       0   \n",
              "\n",
              "                           Dividends  Stock Splits  \n",
              "Date                                                \n",
              "2022-03-18 00:00:00+00:00        0.0           0.0  \n",
              "2022-03-19 00:00:00+00:00        0.0           0.0  \n",
              "2022-03-20 00:00:00+00:00        0.0           0.0  \n",
              "2022-03-21 00:00:00+00:00        0.0           0.0  \n",
              "2022-03-22 00:00:00+00:00        0.0           0.0  \n",
              "...                              ...           ...  \n",
              "2024-05-31 00:00:00+00:00        0.0           0.0  \n",
              "2024-06-01 00:00:00+00:00        0.0           0.0  \n",
              "2024-06-02 00:00:00+00:00        0.0           0.0  \n",
              "2024-06-03 00:00:00+00:00        0.0           0.0  \n",
              "2024-06-04 00:00:00+00:00        0.0           0.0  \n",
              "\n",
              "[810 rows x 7 columns]"
            ]
          },
          "execution_count": 4,
          "metadata": {},
          "output_type": "execute_result"
        }
      ],
      "source": [
        "btc"
      ]
    },
    {
      "cell_type": "markdown",
      "metadata": {
        "id": "f8UgZV_fQtDB"
      },
      "source": [
        "## **Preparing Data**"
      ]
    },
    {
      "cell_type": "code",
      "execution_count": null,
      "metadata": {
        "id": "5pqzdhAFqO9A"
      },
      "outputs": [],
      "source": [
        "def calculate_rsi(data, window=14):\n",
        "    delta = data[\"Close\"].diff()\n",
        "    gain = (delta.where(delta > 0, 0)).rolling(window=window).mean()\n",
        "    loss = (-delta.where(delta < 0, 0)).rolling(window=window).mean()\n",
        "    rs = gain / loss\n",
        "    return 100 - (100 / (1 + rs))"
      ]
    },
    {
      "cell_type": "code",
      "execution_count": null,
      "metadata": {
        "id": "vpXxJ1GfPR9J"
      },
      "outputs": [],
      "source": [
        "def prepare_btc(btc):\n",
        "  btc.index = pd.to_datetime(btc.index)\n",
        "  btc.index = btc.index.tz_convert(None)\n",
        "\n",
        "  del btc[\"Dividends\"]\n",
        "  del btc[\"Stock Splits\"]\n",
        "\n",
        "  btc[\"SMA50\"] = btc[\"Close\"].rolling(window=50).mean()\n",
        "  btc[\"SMA100\"] = btc[\"Close\"].rolling(window=100).mean()\n",
        "  btc[\"SMA200\"] = btc[\"Close\"].rolling(window=200).mean()\n",
        "  btc['Volatility'] = btc['Close'].pct_change().rolling(window=30).std()\n",
        "\n",
        "  btc[\"Future_Close\"] = btc[\"Close\"].shift(-7)\n",
        "\n",
        "  btc[\"MACD\"] = btc[\"Close\"].ewm(span=12, adjust=False).mean() - btc[\"Close\"].ewm(span=26, adjust=False).mean()\n",
        "  btc[\"Signal\"] = btc[\"MACD\"].ewm(span=9, adjust=False).mean()\n",
        "\n",
        "  btc[\"RSI\"] = calculate_rsi(btc)\n",
        "\n",
        "  btc.dropna(inplace=True)\n",
        "\n",
        "  return btc"
      ]
    },
    {
      "cell_type": "code",
      "execution_count": null,
      "metadata": {
        "id": "3k19RAprPnCl"
      },
      "outputs": [],
      "source": [
        "btc = prepare_btc(btc)"
      ]
    },
    {
      "cell_type": "code",
      "execution_count": null,
      "metadata": {
        "colab": {
          "base_uri": "https://localhost:8080/",
          "height": 455
        },
        "id": "gzOz_ixXPrQ8",
        "outputId": "2da5af94-7e1c-4262-f9be-6c53c3198b1e"
      },
      "outputs": [
        {
          "data": {
            "application/vnd.google.colaboratory.intrinsic+json": {
              "summary": "{\n  \"name\": \"btc\",\n  \"rows\": 604,\n  \"fields\": [\n    {\n      \"column\": \"Date\",\n      \"properties\": {\n        \"dtype\": \"date\",\n        \"min\": \"2022-10-03 00:00:00\",\n        \"max\": \"2024-05-28 00:00:00\",\n        \"num_unique_values\": 604,\n        \"samples\": [\n          \"2023-01-21 00:00:00\",\n          \"2023-12-29 00:00:00\",\n          \"2024-04-23 00:00:00\"\n        ],\n        \"semantic_type\": \"\",\n        \"description\": \"\"\n      }\n    },\n    {\n      \"column\": \"Open\",\n      \"properties\": {\n        \"dtype\": \"number\",\n        \"std\": 0.0032447145897027763,\n        \"min\": 1.8999999156221747e-05,\n        \"max\": 0.01909000054001808,\n        \"num_unique_values\": 519,\n        \"samples\": [\n          0.005309999920427799,\n          0.004794000182300806,\n          0.004071999806910753\n        ],\n        \"semantic_type\": \"\",\n        \"description\": \"\"\n      }\n    },\n    {\n      \"column\": \"High\",\n      \"properties\": {\n        \"dtype\": \"number\",\n        \"std\": 0.0489681216091869,\n        \"min\": 3.199999991920777e-05,\n        \"max\": 1.2053810358047485,\n        \"num_unique_values\": 516,\n        \"samples\": [\n          0.004346999805420637,\n          0.00044100001105107367,\n          0.0003110000106971711\n        ],\n        \"semantic_type\": \"\",\n        \"description\": \"\"\n      }\n    },\n    {\n      \"column\": \"Low\",\n      \"properties\": {\n        \"dtype\": \"number\",\n        \"std\": 0.003135057051026185,\n        \"min\": 0.0,\n        \"max\": 0.013685000129044056,\n        \"num_unique_values\": 514,\n        \"samples\": [\n          0.00431300001218915,\n          0.0003819999983534217,\n          0.0003530000103637576\n        ],\n        \"semantic_type\": \"\",\n        \"description\": \"\"\n      }\n    },\n    {\n      \"column\": \"Close\",\n      \"properties\": {\n        \"dtype\": \"number\",\n        \"std\": 0.0032499620846165754,\n        \"min\": 1.8999999156221747e-05,\n        \"max\": 0.019092999398708344,\n        \"num_unique_values\": 525,\n        \"samples\": [\n          0.003973000217229128,\n          0.004004999995231628,\n          0.00406000018119812\n        ],\n        \"semantic_type\": \"\",\n        \"description\": \"\"\n      }\n    },\n    {\n      \"column\": \"Volume\",\n      \"properties\": {\n        \"dtype\": \"number\",\n        \"std\": 21166,\n        \"min\": 0,\n        \"max\": 265317,\n        \"num_unique_values\": 367,\n        \"samples\": [\n          12866,\n          72,\n          361\n        ],\n        \"semantic_type\": \"\",\n        \"description\": \"\"\n      }\n    },\n    {\n      \"column\": \"SMA50\",\n      \"properties\": {\n        \"dtype\": \"number\",\n        \"std\": 0.002978580415291974,\n        \"min\": 0.00012351999972452177,\n        \"max\": 0.01129024000838399,\n        \"num_unique_values\": 604,\n        \"samples\": [\n          0.004950019996613264,\n          0.003611540007404983,\n          0.00032971999928122387\n        ],\n        \"semantic_type\": \"\",\n        \"description\": \"\"\n      }\n    },\n    {\n      \"column\": \"SMA100\",\n      \"properties\": {\n        \"dtype\": \"number\",\n        \"std\": 0.002669189586055656,\n        \"min\": 0.00025685999969937256,\n        \"max\": 0.010102750002406537,\n        \"num_unique_values\": 604,\n        \"samples\": [\n          0.005082860006950796,\n          0.0036075199954211713,\n          0.0004672099979325139\n        ],\n        \"semantic_type\": \"\",\n        \"description\": \"\"\n      }\n    },\n    {\n      \"column\": \"SMA200\",\n      \"properties\": {\n        \"dtype\": \"number\",\n        \"std\": 0.0020004930434101053,\n        \"min\": 0.0014959949997410149,\n        \"max\": 0.008252510004676878,\n        \"num_unique_values\": 604,\n        \"samples\": [\n          0.004387435005046427,\n          0.004204305000603199,\n          0.0020559649951155732\n        ],\n        \"semantic_type\": \"\",\n        \"description\": \"\"\n      }\n    },\n    {\n      \"column\": \"Volatility\",\n      \"properties\": {\n        \"dtype\": \"number\",\n        \"std\": 0.45601592361436166,\n        \"min\": 0.010646413196758065,\n        \"max\": 2.1174331459543874,\n        \"num_unique_values\": 596,\n        \"samples\": [\n          0.028528177277069737,\n          0.10827991154522892,\n          0.04036432637007295\n        ],\n        \"semantic_type\": \"\",\n        \"description\": \"\"\n      }\n    },\n    {\n      \"column\": \"Future_Close\",\n      \"properties\": {\n        \"dtype\": \"number\",\n        \"std\": 0.003283449256298539,\n        \"min\": 1.8999999156221747e-05,\n        \"max\": 0.019092999398708344,\n        \"num_unique_values\": 519,\n        \"samples\": [\n          0.005278000142425299,\n          0.0055519999004900455,\n          0.004232000093907118\n        ],\n        \"semantic_type\": \"\",\n        \"description\": \"\"\n      }\n    },\n    {\n      \"column\": \"MACD\",\n      \"properties\": {\n        \"dtype\": \"number\",\n        \"std\": 0.0003651802347417057,\n        \"min\": -0.0009402743302753601,\n        \"max\": 0.0011455591787997042,\n        \"num_unique_values\": 604,\n        \"samples\": [\n          0.00023372777441652264,\n          8.184344183384627e-05,\n          2.292235764222593e-05\n        ],\n        \"semantic_type\": \"\",\n        \"description\": \"\"\n      }\n    },\n    {\n      \"column\": \"Signal\",\n      \"properties\": {\n        \"dtype\": \"number\",\n        \"std\": 0.0003428552655640178,\n        \"min\": -0.0008517684730978372,\n        \"max\": 0.0008938291128005312,\n        \"num_unique_values\": 604,\n        \"samples\": [\n          0.00020012699538042775,\n          -9.288521572781661e-06,\n          1.555277652626512e-05\n        ],\n        \"semantic_type\": \"\",\n        \"description\": \"\"\n      }\n    },\n    {\n      \"column\": \"RSI\",\n      \"properties\": {\n        \"dtype\": \"number\",\n        \"std\": 18.705691575629842,\n        \"min\": 4.089741301087614,\n        \"max\": 95.97877600974003,\n        \"num_unique_values\": 595,\n        \"samples\": [\n          52.64342424691097,\n          25.987977036976503,\n          64.88388782841648\n        ],\n        \"semantic_type\": \"\",\n        \"description\": \"\"\n      }\n    }\n  ]\n}",
              "type": "dataframe",
              "variable_name": "btc"
            },
            "text/html": [
              "\n",
              "  <div id=\"df-4763600d-0907-4ae4-9d22-db451b81e24e\" class=\"colab-df-container\">\n",
              "    <div>\n",
              "<style scoped>\n",
              "    .dataframe tbody tr th:only-of-type {\n",
              "        vertical-align: middle;\n",
              "    }\n",
              "\n",
              "    .dataframe tbody tr th {\n",
              "        vertical-align: top;\n",
              "    }\n",
              "\n",
              "    .dataframe thead th {\n",
              "        text-align: right;\n",
              "    }\n",
              "</style>\n",
              "<table border=\"1\" class=\"dataframe\">\n",
              "  <thead>\n",
              "    <tr style=\"text-align: right;\">\n",
              "      <th></th>\n",
              "      <th>Open</th>\n",
              "      <th>High</th>\n",
              "      <th>Low</th>\n",
              "      <th>Close</th>\n",
              "      <th>Volume</th>\n",
              "      <th>SMA50</th>\n",
              "      <th>SMA100</th>\n",
              "      <th>SMA200</th>\n",
              "      <th>Volatility</th>\n",
              "      <th>Future_Close</th>\n",
              "      <th>MACD</th>\n",
              "      <th>Signal</th>\n",
              "      <th>RSI</th>\n",
              "    </tr>\n",
              "    <tr>\n",
              "      <th>Date</th>\n",
              "      <th></th>\n",
              "      <th></th>\n",
              "      <th></th>\n",
              "      <th></th>\n",
              "      <th></th>\n",
              "      <th></th>\n",
              "      <th></th>\n",
              "      <th></th>\n",
              "      <th></th>\n",
              "      <th></th>\n",
              "      <th></th>\n",
              "      <th></th>\n",
              "      <th></th>\n",
              "    </tr>\n",
              "  </thead>\n",
              "  <tbody>\n",
              "    <tr>\n",
              "      <th>2022-10-03</th>\n",
              "      <td>0.004044</td>\n",
              "      <td>0.004103</td>\n",
              "      <td>0.004024</td>\n",
              "      <td>0.004066</td>\n",
              "      <td>1407</td>\n",
              "      <td>0.003857</td>\n",
              "      <td>0.003530</td>\n",
              "      <td>0.004483</td>\n",
              "      <td>0.025709</td>\n",
              "      <td>0.003942</td>\n",
              "      <td>0.000059</td>\n",
              "      <td>0.000026</td>\n",
              "      <td>77.718369</td>\n",
              "    </tr>\n",
              "    <tr>\n",
              "      <th>2022-10-04</th>\n",
              "      <td>0.004065</td>\n",
              "      <td>0.004233</td>\n",
              "      <td>0.004055</td>\n",
              "      <td>0.004205</td>\n",
              "      <td>504</td>\n",
              "      <td>0.003854</td>\n",
              "      <td>0.003547</td>\n",
              "      <td>0.004455</td>\n",
              "      <td>0.026312</td>\n",
              "      <td>0.003896</td>\n",
              "      <td>0.000076</td>\n",
              "      <td>0.000036</td>\n",
              "      <td>94.108015</td>\n",
              "    </tr>\n",
              "    <tr>\n",
              "      <th>2022-10-05</th>\n",
              "      <td>0.004204</td>\n",
              "      <td>0.004224</td>\n",
              "      <td>0.004113</td>\n",
              "      <td>0.004183</td>\n",
              "      <td>422</td>\n",
              "      <td>0.003851</td>\n",
              "      <td>0.003564</td>\n",
              "      <td>0.004432</td>\n",
              "      <td>0.026317</td>\n",
              "      <td>0.003837</td>\n",
              "      <td>0.000088</td>\n",
              "      <td>0.000046</td>\n",
              "      <td>91.853015</td>\n",
              "    </tr>\n",
              "    <tr>\n",
              "      <th>2022-10-06</th>\n",
              "      <td>0.004176</td>\n",
              "      <td>0.004256</td>\n",
              "      <td>0.004005</td>\n",
              "      <td>0.004069</td>\n",
              "      <td>1009</td>\n",
              "      <td>0.003849</td>\n",
              "      <td>0.003580</td>\n",
              "      <td>0.004410</td>\n",
              "      <td>0.025527</td>\n",
              "      <td>0.003814</td>\n",
              "      <td>0.000087</td>\n",
              "      <td>0.000054</td>\n",
              "      <td>71.354160</td>\n",
              "    </tr>\n",
              "    <tr>\n",
              "      <th>2022-10-07</th>\n",
              "      <td>0.004069</td>\n",
              "      <td>0.004180</td>\n",
              "      <td>0.004025</td>\n",
              "      <td>0.004155</td>\n",
              "      <td>1413</td>\n",
              "      <td>0.003851</td>\n",
              "      <td>0.003599</td>\n",
              "      <td>0.004386</td>\n",
              "      <td>0.024407</td>\n",
              "      <td>0.004258</td>\n",
              "      <td>0.000091</td>\n",
              "      <td>0.000062</td>\n",
              "      <td>74.924012</td>\n",
              "    </tr>\n",
              "    <tr>\n",
              "      <th>...</th>\n",
              "      <td>...</td>\n",
              "      <td>...</td>\n",
              "      <td>...</td>\n",
              "      <td>...</td>\n",
              "      <td>...</td>\n",
              "      <td>...</td>\n",
              "      <td>...</td>\n",
              "      <td>...</td>\n",
              "      <td>...</td>\n",
              "      <td>...</td>\n",
              "      <td>...</td>\n",
              "      <td>...</td>\n",
              "      <td>...</td>\n",
              "    </tr>\n",
              "    <tr>\n",
              "      <th>2024-05-24</th>\n",
              "      <td>0.000292</td>\n",
              "      <td>0.000464</td>\n",
              "      <td>0.000292</td>\n",
              "      <td>0.000464</td>\n",
              "      <td>7</td>\n",
              "      <td>0.000401</td>\n",
              "      <td>0.000309</td>\n",
              "      <td>0.001567</td>\n",
              "      <td>0.485134</td>\n",
              "      <td>0.000300</td>\n",
              "      <td>-0.000018</td>\n",
              "      <td>-0.000017</td>\n",
              "      <td>52.702704</td>\n",
              "    </tr>\n",
              "    <tr>\n",
              "      <th>2024-05-25</th>\n",
              "      <td>0.000464</td>\n",
              "      <td>0.000690</td>\n",
              "      <td>0.000462</td>\n",
              "      <td>0.000462</td>\n",
              "      <td>17</td>\n",
              "      <td>0.000402</td>\n",
              "      <td>0.000313</td>\n",
              "      <td>0.001550</td>\n",
              "      <td>0.483354</td>\n",
              "      <td>0.000300</td>\n",
              "      <td>-0.000009</td>\n",
              "      <td>-0.000015</td>\n",
              "      <td>50.615114</td>\n",
              "    </tr>\n",
              "    <tr>\n",
              "      <th>2024-05-26</th>\n",
              "      <td>0.000462</td>\n",
              "      <td>0.000462</td>\n",
              "      <td>0.000449</td>\n",
              "      <td>0.000452</td>\n",
              "      <td>4</td>\n",
              "      <td>0.000403</td>\n",
              "      <td>0.000317</td>\n",
              "      <td>0.001533</td>\n",
              "      <td>0.478316</td>\n",
              "      <td>0.000300</td>\n",
              "      <td>-0.000003</td>\n",
              "      <td>-0.000013</td>\n",
              "      <td>46.341463</td>\n",
              "    </tr>\n",
              "    <tr>\n",
              "      <th>2024-05-27</th>\n",
              "      <td>0.000452</td>\n",
              "      <td>0.000561</td>\n",
              "      <td>0.000300</td>\n",
              "      <td>0.000300</td>\n",
              "      <td>12</td>\n",
              "      <td>0.000401</td>\n",
              "      <td>0.000319</td>\n",
              "      <td>0.001514</td>\n",
              "      <td>0.484137</td>\n",
              "      <td>0.000300</td>\n",
              "      <td>-0.000010</td>\n",
              "      <td>-0.000012</td>\n",
              "      <td>40.591618</td>\n",
              "    </tr>\n",
              "    <tr>\n",
              "      <th>2024-05-28</th>\n",
              "      <td>0.000300</td>\n",
              "      <td>0.000300</td>\n",
              "      <td>0.000300</td>\n",
              "      <td>0.000300</td>\n",
              "      <td>0</td>\n",
              "      <td>0.000398</td>\n",
              "      <td>0.000322</td>\n",
              "      <td>0.001496</td>\n",
              "      <td>0.482653</td>\n",
              "      <td>0.000300</td>\n",
              "      <td>-0.000015</td>\n",
              "      <td>-0.000013</td>\n",
              "      <td>40.591618</td>\n",
              "    </tr>\n",
              "  </tbody>\n",
              "</table>\n",
              "<p>604 rows × 13 columns</p>\n",
              "</div>\n",
              "    <div class=\"colab-df-buttons\">\n",
              "\n",
              "  <div class=\"colab-df-container\">\n",
              "    <button class=\"colab-df-convert\" onclick=\"convertToInteractive('df-4763600d-0907-4ae4-9d22-db451b81e24e')\"\n",
              "            title=\"Convert this dataframe to an interactive table.\"\n",
              "            style=\"display:none;\">\n",
              "\n",
              "  <svg xmlns=\"http://www.w3.org/2000/svg\" height=\"24px\" viewBox=\"0 -960 960 960\">\n",
              "    <path d=\"M120-120v-720h720v720H120Zm60-500h600v-160H180v160Zm220 220h160v-160H400v160Zm0 220h160v-160H400v160ZM180-400h160v-160H180v160Zm440 0h160v-160H620v160ZM180-180h160v-160H180v160Zm440 0h160v-160H620v160Z\"/>\n",
              "  </svg>\n",
              "    </button>\n",
              "\n",
              "  <style>\n",
              "    .colab-df-container {\n",
              "      display:flex;\n",
              "      gap: 12px;\n",
              "    }\n",
              "\n",
              "    .colab-df-convert {\n",
              "      background-color: #E8F0FE;\n",
              "      border: none;\n",
              "      border-radius: 50%;\n",
              "      cursor: pointer;\n",
              "      display: none;\n",
              "      fill: #1967D2;\n",
              "      height: 32px;\n",
              "      padding: 0 0 0 0;\n",
              "      width: 32px;\n",
              "    }\n",
              "\n",
              "    .colab-df-convert:hover {\n",
              "      background-color: #E2EBFA;\n",
              "      box-shadow: 0px 1px 2px rgba(60, 64, 67, 0.3), 0px 1px 3px 1px rgba(60, 64, 67, 0.15);\n",
              "      fill: #174EA6;\n",
              "    }\n",
              "\n",
              "    .colab-df-buttons div {\n",
              "      margin-bottom: 4px;\n",
              "    }\n",
              "\n",
              "    [theme=dark] .colab-df-convert {\n",
              "      background-color: #3B4455;\n",
              "      fill: #D2E3FC;\n",
              "    }\n",
              "\n",
              "    [theme=dark] .colab-df-convert:hover {\n",
              "      background-color: #434B5C;\n",
              "      box-shadow: 0px 1px 3px 1px rgba(0, 0, 0, 0.15);\n",
              "      filter: drop-shadow(0px 1px 2px rgba(0, 0, 0, 0.3));\n",
              "      fill: #FFFFFF;\n",
              "    }\n",
              "  </style>\n",
              "\n",
              "    <script>\n",
              "      const buttonEl =\n",
              "        document.querySelector('#df-4763600d-0907-4ae4-9d22-db451b81e24e button.colab-df-convert');\n",
              "      buttonEl.style.display =\n",
              "        google.colab.kernel.accessAllowed ? 'block' : 'none';\n",
              "\n",
              "      async function convertToInteractive(key) {\n",
              "        const element = document.querySelector('#df-4763600d-0907-4ae4-9d22-db451b81e24e');\n",
              "        const dataTable =\n",
              "          await google.colab.kernel.invokeFunction('convertToInteractive',\n",
              "                                                    [key], {});\n",
              "        if (!dataTable) return;\n",
              "\n",
              "        const docLinkHtml = 'Like what you see? Visit the ' +\n",
              "          '<a target=\"_blank\" href=https://colab.research.google.com/notebooks/data_table.ipynb>data table notebook</a>'\n",
              "          + ' to learn more about interactive tables.';\n",
              "        element.innerHTML = '';\n",
              "        dataTable['output_type'] = 'display_data';\n",
              "        await google.colab.output.renderOutput(dataTable, element);\n",
              "        const docLink = document.createElement('div');\n",
              "        docLink.innerHTML = docLinkHtml;\n",
              "        element.appendChild(docLink);\n",
              "      }\n",
              "    </script>\n",
              "  </div>\n",
              "\n",
              "\n",
              "<div id=\"df-0140e8d2-17c1-445e-bf28-7b172581da5c\">\n",
              "  <button class=\"colab-df-quickchart\" onclick=\"quickchart('df-0140e8d2-17c1-445e-bf28-7b172581da5c')\"\n",
              "            title=\"Suggest charts\"\n",
              "            style=\"display:none;\">\n",
              "\n",
              "<svg xmlns=\"http://www.w3.org/2000/svg\" height=\"24px\"viewBox=\"0 0 24 24\"\n",
              "     width=\"24px\">\n",
              "    <g>\n",
              "        <path d=\"M19 3H5c-1.1 0-2 .9-2 2v14c0 1.1.9 2 2 2h14c1.1 0 2-.9 2-2V5c0-1.1-.9-2-2-2zM9 17H7v-7h2v7zm4 0h-2V7h2v10zm4 0h-2v-4h2v4z\"/>\n",
              "    </g>\n",
              "</svg>\n",
              "  </button>\n",
              "\n",
              "<style>\n",
              "  .colab-df-quickchart {\n",
              "      --bg-color: #E8F0FE;\n",
              "      --fill-color: #1967D2;\n",
              "      --hover-bg-color: #E2EBFA;\n",
              "      --hover-fill-color: #174EA6;\n",
              "      --disabled-fill-color: #AAA;\n",
              "      --disabled-bg-color: #DDD;\n",
              "  }\n",
              "\n",
              "  [theme=dark] .colab-df-quickchart {\n",
              "      --bg-color: #3B4455;\n",
              "      --fill-color: #D2E3FC;\n",
              "      --hover-bg-color: #434B5C;\n",
              "      --hover-fill-color: #FFFFFF;\n",
              "      --disabled-bg-color: #3B4455;\n",
              "      --disabled-fill-color: #666;\n",
              "  }\n",
              "\n",
              "  .colab-df-quickchart {\n",
              "    background-color: var(--bg-color);\n",
              "    border: none;\n",
              "    border-radius: 50%;\n",
              "    cursor: pointer;\n",
              "    display: none;\n",
              "    fill: var(--fill-color);\n",
              "    height: 32px;\n",
              "    padding: 0;\n",
              "    width: 32px;\n",
              "  }\n",
              "\n",
              "  .colab-df-quickchart:hover {\n",
              "    background-color: var(--hover-bg-color);\n",
              "    box-shadow: 0 1px 2px rgba(60, 64, 67, 0.3), 0 1px 3px 1px rgba(60, 64, 67, 0.15);\n",
              "    fill: var(--button-hover-fill-color);\n",
              "  }\n",
              "\n",
              "  .colab-df-quickchart-complete:disabled,\n",
              "  .colab-df-quickchart-complete:disabled:hover {\n",
              "    background-color: var(--disabled-bg-color);\n",
              "    fill: var(--disabled-fill-color);\n",
              "    box-shadow: none;\n",
              "  }\n",
              "\n",
              "  .colab-df-spinner {\n",
              "    border: 2px solid var(--fill-color);\n",
              "    border-color: transparent;\n",
              "    border-bottom-color: var(--fill-color);\n",
              "    animation:\n",
              "      spin 1s steps(1) infinite;\n",
              "  }\n",
              "\n",
              "  @keyframes spin {\n",
              "    0% {\n",
              "      border-color: transparent;\n",
              "      border-bottom-color: var(--fill-color);\n",
              "      border-left-color: var(--fill-color);\n",
              "    }\n",
              "    20% {\n",
              "      border-color: transparent;\n",
              "      border-left-color: var(--fill-color);\n",
              "      border-top-color: var(--fill-color);\n",
              "    }\n",
              "    30% {\n",
              "      border-color: transparent;\n",
              "      border-left-color: var(--fill-color);\n",
              "      border-top-color: var(--fill-color);\n",
              "      border-right-color: var(--fill-color);\n",
              "    }\n",
              "    40% {\n",
              "      border-color: transparent;\n",
              "      border-right-color: var(--fill-color);\n",
              "      border-top-color: var(--fill-color);\n",
              "    }\n",
              "    60% {\n",
              "      border-color: transparent;\n",
              "      border-right-color: var(--fill-color);\n",
              "    }\n",
              "    80% {\n",
              "      border-color: transparent;\n",
              "      border-right-color: var(--fill-color);\n",
              "      border-bottom-color: var(--fill-color);\n",
              "    }\n",
              "    90% {\n",
              "      border-color: transparent;\n",
              "      border-bottom-color: var(--fill-color);\n",
              "    }\n",
              "  }\n",
              "</style>\n",
              "\n",
              "  <script>\n",
              "    async function quickchart(key) {\n",
              "      const quickchartButtonEl =\n",
              "        document.querySelector('#' + key + ' button');\n",
              "      quickchartButtonEl.disabled = true;  // To prevent multiple clicks.\n",
              "      quickchartButtonEl.classList.add('colab-df-spinner');\n",
              "      try {\n",
              "        const charts = await google.colab.kernel.invokeFunction(\n",
              "            'suggestCharts', [key], {});\n",
              "      } catch (error) {\n",
              "        console.error('Error during call to suggestCharts:', error);\n",
              "      }\n",
              "      quickchartButtonEl.classList.remove('colab-df-spinner');\n",
              "      quickchartButtonEl.classList.add('colab-df-quickchart-complete');\n",
              "    }\n",
              "    (() => {\n",
              "      let quickchartButtonEl =\n",
              "        document.querySelector('#df-0140e8d2-17c1-445e-bf28-7b172581da5c button');\n",
              "      quickchartButtonEl.style.display =\n",
              "        google.colab.kernel.accessAllowed ? 'block' : 'none';\n",
              "    })();\n",
              "  </script>\n",
              "</div>\n",
              "\n",
              "  <div id=\"id_32147997-75e8-4643-8752-a0f5286b2556\">\n",
              "    <style>\n",
              "      .colab-df-generate {\n",
              "        background-color: #E8F0FE;\n",
              "        border: none;\n",
              "        border-radius: 50%;\n",
              "        cursor: pointer;\n",
              "        display: none;\n",
              "        fill: #1967D2;\n",
              "        height: 32px;\n",
              "        padding: 0 0 0 0;\n",
              "        width: 32px;\n",
              "      }\n",
              "\n",
              "      .colab-df-generate:hover {\n",
              "        background-color: #E2EBFA;\n",
              "        box-shadow: 0px 1px 2px rgba(60, 64, 67, 0.3), 0px 1px 3px 1px rgba(60, 64, 67, 0.15);\n",
              "        fill: #174EA6;\n",
              "      }\n",
              "\n",
              "      [theme=dark] .colab-df-generate {\n",
              "        background-color: #3B4455;\n",
              "        fill: #D2E3FC;\n",
              "      }\n",
              "\n",
              "      [theme=dark] .colab-df-generate:hover {\n",
              "        background-color: #434B5C;\n",
              "        box-shadow: 0px 1px 3px 1px rgba(0, 0, 0, 0.15);\n",
              "        filter: drop-shadow(0px 1px 2px rgba(0, 0, 0, 0.3));\n",
              "        fill: #FFFFFF;\n",
              "      }\n",
              "    </style>\n",
              "    <button class=\"colab-df-generate\" onclick=\"generateWithVariable('btc')\"\n",
              "            title=\"Generate code using this dataframe.\"\n",
              "            style=\"display:none;\">\n",
              "\n",
              "  <svg xmlns=\"http://www.w3.org/2000/svg\" height=\"24px\"viewBox=\"0 0 24 24\"\n",
              "       width=\"24px\">\n",
              "    <path d=\"M7,19H8.4L18.45,9,17,7.55,7,17.6ZM5,21V16.75L18.45,3.32a2,2,0,0,1,2.83,0l1.4,1.43a1.91,1.91,0,0,1,.58,1.4,1.91,1.91,0,0,1-.58,1.4L9.25,21ZM18.45,9,17,7.55Zm-12,3A5.31,5.31,0,0,0,4.9,8.1,5.31,5.31,0,0,0,1,6.5,5.31,5.31,0,0,0,4.9,4.9,5.31,5.31,0,0,0,6.5,1,5.31,5.31,0,0,0,8.1,4.9,5.31,5.31,0,0,0,12,6.5,5.46,5.46,0,0,0,6.5,12Z\"/>\n",
              "  </svg>\n",
              "    </button>\n",
              "    <script>\n",
              "      (() => {\n",
              "      const buttonEl =\n",
              "        document.querySelector('#id_32147997-75e8-4643-8752-a0f5286b2556 button.colab-df-generate');\n",
              "      buttonEl.style.display =\n",
              "        google.colab.kernel.accessAllowed ? 'block' : 'none';\n",
              "\n",
              "      buttonEl.onclick = () => {\n",
              "        google.colab.notebook.generateWithVariable('btc');\n",
              "      }\n",
              "      })();\n",
              "    </script>\n",
              "  </div>\n",
              "\n",
              "    </div>\n",
              "  </div>\n"
            ],
            "text/plain": [
              "                Open      High       Low     Close  Volume     SMA50  \\\n",
              "Date                                                                   \n",
              "2022-10-03  0.004044  0.004103  0.004024  0.004066    1407  0.003857   \n",
              "2022-10-04  0.004065  0.004233  0.004055  0.004205     504  0.003854   \n",
              "2022-10-05  0.004204  0.004224  0.004113  0.004183     422  0.003851   \n",
              "2022-10-06  0.004176  0.004256  0.004005  0.004069    1009  0.003849   \n",
              "2022-10-07  0.004069  0.004180  0.004025  0.004155    1413  0.003851   \n",
              "...              ...       ...       ...       ...     ...       ...   \n",
              "2024-05-24  0.000292  0.000464  0.000292  0.000464       7  0.000401   \n",
              "2024-05-25  0.000464  0.000690  0.000462  0.000462      17  0.000402   \n",
              "2024-05-26  0.000462  0.000462  0.000449  0.000452       4  0.000403   \n",
              "2024-05-27  0.000452  0.000561  0.000300  0.000300      12  0.000401   \n",
              "2024-05-28  0.000300  0.000300  0.000300  0.000300       0  0.000398   \n",
              "\n",
              "              SMA100    SMA200  Volatility  Future_Close      MACD    Signal  \\\n",
              "Date                                                                           \n",
              "2022-10-03  0.003530  0.004483    0.025709      0.003942  0.000059  0.000026   \n",
              "2022-10-04  0.003547  0.004455    0.026312      0.003896  0.000076  0.000036   \n",
              "2022-10-05  0.003564  0.004432    0.026317      0.003837  0.000088  0.000046   \n",
              "2022-10-06  0.003580  0.004410    0.025527      0.003814  0.000087  0.000054   \n",
              "2022-10-07  0.003599  0.004386    0.024407      0.004258  0.000091  0.000062   \n",
              "...              ...       ...         ...           ...       ...       ...   \n",
              "2024-05-24  0.000309  0.001567    0.485134      0.000300 -0.000018 -0.000017   \n",
              "2024-05-25  0.000313  0.001550    0.483354      0.000300 -0.000009 -0.000015   \n",
              "2024-05-26  0.000317  0.001533    0.478316      0.000300 -0.000003 -0.000013   \n",
              "2024-05-27  0.000319  0.001514    0.484137      0.000300 -0.000010 -0.000012   \n",
              "2024-05-28  0.000322  0.001496    0.482653      0.000300 -0.000015 -0.000013   \n",
              "\n",
              "                  RSI  \n",
              "Date                   \n",
              "2022-10-03  77.718369  \n",
              "2022-10-04  94.108015  \n",
              "2022-10-05  91.853015  \n",
              "2022-10-06  71.354160  \n",
              "2022-10-07  74.924012  \n",
              "...               ...  \n",
              "2024-05-24  52.702704  \n",
              "2024-05-25  50.615114  \n",
              "2024-05-26  46.341463  \n",
              "2024-05-27  40.591618  \n",
              "2024-05-28  40.591618  \n",
              "\n",
              "[604 rows x 13 columns]"
            ]
          },
          "execution_count": 8,
          "metadata": {},
          "output_type": "execute_result"
        }
      ],
      "source": [
        "btc"
      ]
    },
    {
      "cell_type": "code",
      "execution_count": null,
      "metadata": {
        "id": "TFCxQ8C3Ri-1"
      },
      "outputs": [],
      "source": [
        "features = ['SMA50', 'SMA100', 'SMA200', 'Volatility', 'MACD', 'Signal', 'RSI']\n",
        "target = 'Future_Close'"
      ]
    },
    {
      "cell_type": "code",
      "execution_count": null,
      "metadata": {
        "id": "LouQ9onBX8Y1"
      },
      "outputs": [],
      "source": [
        "scaler = MinMaxScaler()\n",
        "btc[features] = scaler.fit_transform(btc[features])"
      ]
    },
    {
      "cell_type": "code",
      "execution_count": null,
      "metadata": {
        "id": "rwA5m6qGTOhN"
      },
      "outputs": [],
      "source": [
        "X_train, X_test, y_train, y_test = train_test_split(btc[features], btc[target], test_size = 0.2)"
      ]
    },
    {
      "cell_type": "code",
      "execution_count": null,
      "metadata": {
        "id": "eeDoFeHoTaOs"
      },
      "outputs": [],
      "source": [
        "model = RandomForestRegressor()"
      ]
    },
    {
      "cell_type": "code",
      "execution_count": null,
      "metadata": {
        "id": "FO-ncLL4T-ZG"
      },
      "outputs": [],
      "source": [
        "model.fit(X_train, y_train)\n",
        "joblib.dump(model, \"btc_model.pkl\")\n",
        "prediction = model.predict(X_test)"
      ]
    },
    {
      "cell_type": "code",
      "execution_count": null,
      "metadata": {
        "id": "AJIbZD4ZUMPo"
      },
      "outputs": [],
      "source": [
        "mse = np.sqrt(mean_squared_error(y_test, prediction))"
      ]
    },
    {
      "cell_type": "code",
      "execution_count": null,
      "metadata": {
        "colab": {
          "base_uri": "https://localhost:8080/"
        },
        "id": "eo6qGXbWUZcu",
        "outputId": "f3ff0602-e28c-4d22-9106-4e0eb227be3f"
      },
      "outputs": [
        {
          "data": {
            "text/plain": [
              "0.0003408617101575516"
            ]
          },
          "execution_count": 15,
          "metadata": {},
          "output_type": "execute_result"
        }
      ],
      "source": [
        "mse"
      ]
    },
    {
      "cell_type": "code",
      "execution_count": null,
      "metadata": {
        "colab": {
          "base_uri": "https://localhost:8080/"
        },
        "id": "KTZrW5C8d_QV",
        "outputId": "0accca7c-5a49-44f2-f047-6f2d543406af"
      },
      "outputs": [
        {
          "name": "stdout",
          "output_type": "stream",
          "text": [
            "Predicted Prices for Next 7 Days: [96642.17960938 96620.59671875 97137.59984375 96420.74429687\n",
            " 97788.11414062 97292.65859375 98070.22695313]\n"
          ]
        }
      ],
      "source": [
        "future_features = btc[features].iloc[-7:]\n",
        "future_predictions = model.predict(future_features)\n",
        "\n",
        "print(\"Predicted Prices for Next 7 Days:\", future_predictions)"
      ]
    },
    {
      "cell_type": "code",
      "execution_count": null,
      "metadata": {
        "colab": {
          "base_uri": "https://localhost:8080/"
        },
        "id": "BczpRaaXoIfu",
        "outputId": "96e7cf58-7c0a-4020-9724-2888c2f97afa"
      },
      "outputs": [
        {
          "data": {
            "text/plain": [
              "0.9967892245296144"
            ]
          },
          "execution_count": 24,
          "metadata": {},
          "output_type": "execute_result"
        }
      ],
      "source": [
        "r2 = r2_score(y_test, prediction)\n",
        "\n",
        "r2"
      ]
    },
    {
      "cell_type": "markdown",
      "metadata": {
        "id": "gbICyL_2Wl2m"
      },
      "source": [
        "## **Using XGBoost**"
      ]
    },
    {
      "cell_type": "code",
      "execution_count": null,
      "metadata": {
        "id": "wHyTtsSLWAAG"
      },
      "outputs": [],
      "source": [
        "model = XGBRegressor(n_estimator=200, learning_rate=0.05)"
      ]
    },
    {
      "cell_type": "code",
      "execution_count": null,
      "metadata": {
        "colab": {
          "base_uri": "https://localhost:8080/"
        },
        "id": "E3BVRy91W402",
        "outputId": "71a46eba-68bd-4c38-8e29-4e4af1b0f83b"
      },
      "outputs": [
        {
          "name": "stderr",
          "output_type": "stream",
          "text": [
            "/usr/local/lib/python3.11/dist-packages/xgboost/core.py:158: UserWarning: [20:18:09] WARNING: /workspace/src/learner.cc:740: \n",
            "Parameters: { \"n_estimator\" } are not used.\n",
            "\n",
            "  warnings.warn(smsg, UserWarning)\n"
          ]
        }
      ],
      "source": [
        "model.fit(X_train, y_train)\n",
        "prediction = model.predict(X_test)"
      ]
    },
    {
      "cell_type": "code",
      "execution_count": null,
      "metadata": {
        "colab": {
          "base_uri": "https://localhost:8080/"
        },
        "id": "pCqhQBBbW7sx",
        "outputId": "44e0ed7d-29db-4bf3-b415-9ff4e05705e1"
      },
      "outputs": [
        {
          "data": {
            "text/plain": [
              "1422.9409051439366"
            ]
          },
          "execution_count": 27,
          "metadata": {},
          "output_type": "execute_result"
        }
      ],
      "source": [
        "mse = np.sqrt(mean_squared_error(y_test, prediction))\n",
        "\n",
        "mse"
      ]
    },
    {
      "cell_type": "markdown",
      "metadata": {
        "id": "6sGvdFGEfYlP"
      },
      "source": [
        "## **DCA Strategy**"
      ]
    },
    {
      "cell_type": "code",
      "execution_count": null,
      "metadata": {
        "id": "CjR0uVD4yyU2"
      },
      "outputs": [],
      "source": [
        "investment_amount = 100\n",
        "investment_threshold = np.percentile(future_predictions, 30)"
      ]
    },
    {
      "cell_type": "code",
      "execution_count": null,
      "metadata": {
        "id": "inluSH24XbO2"
      },
      "outputs": [],
      "source": [
        "def dca_strategy(prediction, threshold):\n",
        "    investment_schedule = []\n",
        "    for price in prediction:\n",
        "        if price < threshold:\n",
        "            investment_schedule.append(investment_amount * 1.5)\n",
        "        else:\n",
        "            investment_schedule.append(investment_amount)\n",
        "    return investment_schedule"
      ]
    },
    {
      "cell_type": "code",
      "execution_count": null,
      "metadata": {
        "colab": {
          "base_uri": "https://localhost:8080/"
        },
        "id": "AG4sCadZy6Ee",
        "outputId": "888ba02e-9e4b-4a55-84d4-fdd2c20b5e07"
      },
      "outputs": [
        {
          "name": "stdout",
          "output_type": "stream",
          "text": [
            "Investment Schedule: [100, 150.0, 100, 150.0, 100, 100, 100]\n"
          ]
        }
      ],
      "source": [
        "dca_investments = dca_strategy(future_predictions, investment_threshold)\n",
        "print(\"Investment Schedule:\", dca_investments)"
      ]
    },
    {
      "cell_type": "markdown",
      "metadata": {
        "id": "PuH41Lg0Pfhu"
      },
      "source": [
        "## **Live Data**"
      ]
    },
    {
      "cell_type": "code",
      "execution_count": null,
      "metadata": {
        "id": "jqz-11_pQCoV"
      },
      "outputs": [],
      "source": [
        "def train_model():\n",
        "  btc_ticker = yf.Ticker(\"SOL-USD\")\n",
        "  new_btc = btc_ticker.history(date=date.today().strftime(\"%Y-%m-%d\"))\n",
        "  new_btc = prepare_btc(new_btc)\n",
        "\n",
        "  model = joblib.load(\"btc_model.pkl\")\n",
        "\n",
        "  model.fit(new_btc[features], new_btc[target])\n",
        "  joblib.dump(model, \"btc_model.pkl\")"
      ]
    },
    {
      "cell_type": "code",
      "execution_count": null,
      "metadata": {
        "id": "fVouIUboRQAW"
      },
      "outputs": [],
      "source": [
        "scheduler = BackgroundScheduler()\n",
        "scheduler.add_job(train_model, 'interval', hours=24)\n",
        "scheduler.start()"
      ]
    },
    {
      "cell_type": "code",
      "execution_count": null,
      "metadata": {
        "id": "-24H7s65zN0h"
      },
      "outputs": [],
      "source": [
        "@app.route('/predict', methods=['GET'])\n",
        "def predict():\n",
        "  dca_investments = dca_strategy(future_predictions, investment_threshold)\n",
        "  return jsonify({\n",
        "        \"predicted_prices\": future_predictions.tolist(),\n",
        "        \"investment_schedule\": dca_strategy(future_predictions, investment_threshold)\n",
        "        })"
      ]
    },
    {
      "cell_type": "code",
      "execution_count": null,
      "metadata": {
        "colab": {
          "base_uri": "https://localhost:8080/"
        },
        "id": "p7u9igFP0CVb",
        "outputId": "624fd316-bbdf-427b-c9fc-0826acc3198b"
      },
      "outputs": [
        {
          "name": "stdout",
          "output_type": "stream",
          "text": [
            " * Serving Flask app '__main__'\n",
            " * Debug mode: on\n"
          ]
        },
        {
          "name": "stderr",
          "output_type": "stream",
          "text": [
            "INFO:werkzeug:\u001b[31m\u001b[1mWARNING: This is a development server. Do not use it in a production deployment. Use a production WSGI server instead.\u001b[0m\n",
            " * Running on http://127.0.0.1:5000\n",
            "INFO:werkzeug:\u001b[33mPress CTRL+C to quit\u001b[0m\n",
            "INFO:werkzeug: * Restarting with stat\n"
          ]
        }
      ],
      "source": [
        "if __name__ == '__main__':\n",
        "    app.run(debug=True)"
      ]
    },
    {
      "cell_type": "code",
      "execution_count": null,
      "metadata": {
        "id": "OnoAQfTQHSAf"
      },
      "outputs": [],
      "source": [
        "def generate_live_predictions():\n",
        "    while True:\n",
        "        # Simulate real-time features (Replace this with live data fetching)\n",
        "        live_features = np.random.rand(1, 7)  # Assuming model expects 7 features\n",
        "\n",
        "        # Make prediction\n",
        "        predicted_price = model.predict(live_features)[0]\n",
        "\n",
        "        # Emit the prediction to connected clients\n",
        "        socketio.emit(\"price_update\", {\"predicted_price\": predicted_price})\n",
        "\n",
        "        print(f\"Sent Predicted Price: {predicted_price}\")\n",
        "\n",
        "        time.sleep(10)  # Send updates every 10 seconds"
      ]
    },
    {
      "cell_type": "code",
      "execution_count": null,
      "metadata": {
        "id": "EQAUUr_vHa6z"
      },
      "outputs": [],
      "source": [
        "@socketio.on(\"connect\")\n",
        "def handle_connect():\n",
        "    print(\"Client connected!\")\n",
        "    socketio.start_background_task(generate_live_predictions)"
      ]
    },
    {
      "cell_type": "code",
      "execution_count": null,
      "metadata": {
        "id": "hI32gJj3HfGE"
      },
      "outputs": [],
      "source": [
        "@app.route(\"/\")\n",
        "def index():\n",
        "    return jsonify({\"message\": \"WebSocket server is running!\"})"
      ]
    },
    {
      "cell_type": "code",
      "execution_count": null,
      "metadata": {
        "colab": {
          "base_uri": "https://localhost:8080/"
        },
        "id": "Z37I0c2jHiAB",
        "outputId": "b2d1acb0-5150-492a-fae5-a84ce8a1e150"
      },
      "outputs": [
        {
          "name": "stderr",
          "output_type": "stream",
          "text": [
            "INFO:werkzeug: * Restarting with stat\n"
          ]
        }
      ],
      "source": [
        "if __name__ == \"__main__\":\n",
        "    socketio.run(app, host=\"0.0.0.0\", port=5000, debug=True)"
      ]
    },
    {
      "cell_type": "code",
      "execution_count": null,
      "metadata": {
        "colab": {
          "base_uri": "https://localhost:8080/",
          "height": 332
        },
        "id": "MmzJUjjgHlTe",
        "outputId": "359226d6-8629-4c49-c5e8-84ec5d05747e"
      },
      "outputs": [
        {
          "ename": "ConnectionError",
          "evalue": "HTTPConnectionPool(host='localhost', port=5000): Max retries exceeded with url: /socket.io/?transport=polling&EIO=4&t=1739564502.3068871 (Caused by NewConnectionError('<urllib3.connection.HTTPConnection object at 0x790678c96610>: Failed to establish a new connection: [Errno 111] Connection refused'))",
          "output_type": "error",
          "traceback": [
            "\u001b[0;31m---------------------------------------------------------------------------\u001b[0m",
            "\u001b[0;31mConnectionError\u001b[0m                           Traceback (most recent call last)",
            "\u001b[0;32m<ipython-input-41-e0ea21ed4ba4>\u001b[0m in \u001b[0;36m<cell line: 0>\u001b[0;34m()\u001b[0m\n\u001b[1;32m      5\u001b[0m     \u001b[0mprint\u001b[0m\u001b[0;34m(\u001b[0m\u001b[0;34m\"📈 Live Predicted Price:\"\u001b[0m\u001b[0;34m,\u001b[0m \u001b[0mdata\u001b[0m\u001b[0;34m[\u001b[0m\u001b[0;34m\"predicted_price\"\u001b[0m\u001b[0;34m]\u001b[0m\u001b[0;34m)\u001b[0m\u001b[0;34m\u001b[0m\u001b[0;34m\u001b[0m\u001b[0m\n\u001b[1;32m      6\u001b[0m \u001b[0;34m\u001b[0m\u001b[0m\n\u001b[0;32m----> 7\u001b[0;31m \u001b[0msio\u001b[0m\u001b[0;34m.\u001b[0m\u001b[0mconnect\u001b[0m\u001b[0;34m(\u001b[0m\u001b[0;34m\"http://localhost:5000\"\u001b[0m\u001b[0;34m)\u001b[0m\u001b[0;34m\u001b[0m\u001b[0;34m\u001b[0m\u001b[0m\n\u001b[0m\u001b[1;32m      8\u001b[0m \u001b[0msio\u001b[0m\u001b[0;34m.\u001b[0m\u001b[0mwait\u001b[0m\u001b[0;34m(\u001b[0m\u001b[0;34m)\u001b[0m\u001b[0;34m\u001b[0m\u001b[0;34m\u001b[0m\u001b[0m\n",
            "\u001b[0;32m/usr/local/lib/python3.11/dist-packages/socketio/client.py\u001b[0m in \u001b[0;36mconnect\u001b[0;34m(self, url, headers, auth, transports, namespaces, socketio_path, wait, wait_timeout, retry)\u001b[0m\n\u001b[1;32m    157\u001b[0m                 \u001b[0;32mif\u001b[0m \u001b[0mself\u001b[0m\u001b[0;34m.\u001b[0m\u001b[0meio\u001b[0m\u001b[0;34m.\u001b[0m\u001b[0mstate\u001b[0m \u001b[0;34m==\u001b[0m \u001b[0;34m'connected'\u001b[0m\u001b[0;34m:\u001b[0m\u001b[0;34m\u001b[0m\u001b[0;34m\u001b[0m\u001b[0m\n\u001b[1;32m    158\u001b[0m                     \u001b[0;32mreturn\u001b[0m\u001b[0;34m\u001b[0m\u001b[0;34m\u001b[0m\u001b[0m\n\u001b[0;32m--> 159\u001b[0;31m             \u001b[0;32mraise\u001b[0m \u001b[0mexceptions\u001b[0m\u001b[0;34m.\u001b[0m\u001b[0mConnectionError\u001b[0m\u001b[0;34m(\u001b[0m\u001b[0mexc\u001b[0m\u001b[0;34m.\u001b[0m\u001b[0margs\u001b[0m\u001b[0;34m[\u001b[0m\u001b[0;36m0\u001b[0m\u001b[0;34m]\u001b[0m\u001b[0;34m)\u001b[0m \u001b[0;32mfrom\u001b[0m \u001b[0;32mNone\u001b[0m\u001b[0;34m\u001b[0m\u001b[0;34m\u001b[0m\u001b[0m\n\u001b[0m\u001b[1;32m    160\u001b[0m \u001b[0;34m\u001b[0m\u001b[0m\n\u001b[1;32m    161\u001b[0m         \u001b[0;32mif\u001b[0m \u001b[0mwait\u001b[0m\u001b[0;34m:\u001b[0m\u001b[0;34m\u001b[0m\u001b[0;34m\u001b[0m\u001b[0m\n",
            "\u001b[0;31mConnectionError\u001b[0m: HTTPConnectionPool(host='localhost', port=5000): Max retries exceeded with url: /socket.io/?transport=polling&EIO=4&t=1739564502.3068871 (Caused by NewConnectionError('<urllib3.connection.HTTPConnection object at 0x790678c96610>: Failed to establish a new connection: [Errno 111] Connection refused'))"
          ]
        }
      ],
      "source": [
        "sio = socketio.Client()\n",
        "\n",
        "@sio.on(\"price_update\")\n",
        "def on_message(data):\n",
        "    print(\"📈 Live Predicted Price:\", data[\"predicted_price\"])\n",
        "\n",
        "sio.connect(\"http://localhost:5000\")\n",
        "sio.wait()"
      ]
    },
    {
      "cell_type": "code",
      "execution_count": null,
      "metadata": {
        "id": "qZUlp8d4HzKK"
      },
      "outputs": [],
      "source": []
    }
  ],
  "metadata": {
    "colab": {
      "provenance": []
    },
    "kernelspec": {
      "display_name": "Python 3",
      "name": "python3"
    },
    "language_info": {
      "name": "python"
    }
  },
  "nbformat": 4,
  "nbformat_minor": 0
}
